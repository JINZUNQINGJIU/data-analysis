{
 "cells": [
  {
   "cell_type": "markdown",
   "metadata": {},
   "source": [
    "导入需要的库"
   ]
  },
  {
   "cell_type": "code",
   "execution_count": 1,
   "metadata": {},
   "outputs": [],
   "source": [
    "import seaborn as sns  # 用于画图\n",
    "from bs4 import BeautifulSoup  # 用于爬取arxiv的数据\n",
    "import re  # 用于正则表达式，匹配字符串的模式\n",
    "import requests  # 用于网络连接，发送网络请求，使用域名获取对应信息\n",
    "import json  # 读取数据，我们的数据为json格式的\n",
    "import pandas as pd  # 数据处理，数据分析\n",
    "import matplotlib.pyplot as plt  # 画图工具"
   ]
  },
  {
   "cell_type": "markdown",
   "metadata": {},
   "source": [
    "读取字段"
   ]
  },
  {
   "cell_type": "code",
   "execution_count": 7,
   "metadata": {},
   "outputs": [],
   "source": [
    "data = [] #初始化\n",
    "#使⽤用with语句句优势： 1.⾃自动关闭⽂文件句句柄； 2.⾃自动显示（处理理）⽂文件读取数据异常\n",
    "with open(\"H:\\\\arxiv-metadata-oai-snapshot.json\", 'r') as f:\n",
    "    for idx, line in enumerate(f):\n",
    "        d = json.loads(line)\n",
    "        d = {'title': d['title'], 'categories': d['categories'],'abstract': d['abstract']}\n",
    "        data.append(d)\n",
    "        if idx > 200000:\n",
    "            break\n",
    "data = pd.DataFrame(data) #将list变为dataframe格式，⽅方便便使⽤用pandas进⾏行行分析"
   ]
  },
  {
   "cell_type": "code",
   "execution_count": 8,
   "metadata": {},
   "outputs": [
    {
     "data": {
      "text/html": [
       "<div>\n",
       "<style scoped>\n",
       "    .dataframe tbody tr th:only-of-type {\n",
       "        vertical-align: middle;\n",
       "    }\n",
       "\n",
       "    .dataframe tbody tr th {\n",
       "        vertical-align: top;\n",
       "    }\n",
       "\n",
       "    .dataframe thead th {\n",
       "        text-align: right;\n",
       "    }\n",
       "</style>\n",
       "<table border=\"1\" class=\"dataframe\">\n",
       "  <thead>\n",
       "    <tr style=\"text-align: right;\">\n",
       "      <th></th>\n",
       "      <th>title</th>\n",
       "      <th>categories</th>\n",
       "      <th>abstract</th>\n",
       "    </tr>\n",
       "  </thead>\n",
       "  <tbody>\n",
       "    <tr>\n",
       "      <td>0</td>\n",
       "      <td>Calculation of prompt diphoton production cros...</td>\n",
       "      <td>hep-ph</td>\n",
       "      <td>A fully differential calculation in perturba...</td>\n",
       "    </tr>\n",
       "    <tr>\n",
       "      <td>1</td>\n",
       "      <td>Sparsity-certifying Graph Decompositions</td>\n",
       "      <td>math.CO cs.CG</td>\n",
       "      <td>We describe a new algorithm, the $(k,\\ell)$-...</td>\n",
       "    </tr>\n",
       "    <tr>\n",
       "      <td>2</td>\n",
       "      <td>The evolution of the Earth-Moon system based o...</td>\n",
       "      <td>physics.gen-ph</td>\n",
       "      <td>The evolution of Earth-Moon system is descri...</td>\n",
       "    </tr>\n",
       "    <tr>\n",
       "      <td>3</td>\n",
       "      <td>A determinant of Stirling cycle numbers counts...</td>\n",
       "      <td>math.CO</td>\n",
       "      <td>We show that a determinant of Stirling cycle...</td>\n",
       "    </tr>\n",
       "    <tr>\n",
       "      <td>4</td>\n",
       "      <td>From dyadic $\\Lambda_{\\alpha}$ to $\\Lambda_{\\a...</td>\n",
       "      <td>math.CA math.FA</td>\n",
       "      <td>In this paper we show how to compute the $\\L...</td>\n",
       "    </tr>\n",
       "  </tbody>\n",
       "</table>\n",
       "</div>"
      ],
      "text/plain": [
       "                                               title       categories  \\\n",
       "0  Calculation of prompt diphoton production cros...           hep-ph   \n",
       "1           Sparsity-certifying Graph Decompositions    math.CO cs.CG   \n",
       "2  The evolution of the Earth-Moon system based o...   physics.gen-ph   \n",
       "3  A determinant of Stirling cycle numbers counts...          math.CO   \n",
       "4  From dyadic $\\Lambda_{\\alpha}$ to $\\Lambda_{\\a...  math.CA math.FA   \n",
       "\n",
       "                                            abstract  \n",
       "0    A fully differential calculation in perturba...  \n",
       "1    We describe a new algorithm, the $(k,\\ell)$-...  \n",
       "2    The evolution of Earth-Moon system is descri...  \n",
       "3    We show that a determinant of Stirling cycle...  \n",
       "4    In this paper we show how to compute the $\\L...  "
      ]
     },
     "execution_count": 8,
     "metadata": {},
     "output_type": "execute_result"
    }
   ],
   "source": [
    "data.head()"
   ]
  },
  {
   "cell_type": "markdown",
   "metadata": {},
   "source": [
    "为了了⽅方便便数据的处理理，我们可以将标题和摘要拼接⼀一起完成分类。"
   ]
  },
  {
   "cell_type": "code",
   "execution_count": 9,
   "metadata": {},
   "outputs": [],
   "source": [
    "data['text'] = data['title'] + data['abstract']\n",
    "data['text'] = data['text'].apply(lambda x: x.replace('\\n',' '))\n",
    "data['text'] = data['text'].apply(lambda x: x.lower())\n",
    "data = data.drop(['abstract', 'title'], axis=1)"
   ]
  },
  {
   "cell_type": "code",
   "execution_count": 10,
   "metadata": {},
   "outputs": [
    {
     "data": {
      "text/html": [
       "<div>\n",
       "<style scoped>\n",
       "    .dataframe tbody tr th:only-of-type {\n",
       "        vertical-align: middle;\n",
       "    }\n",
       "\n",
       "    .dataframe tbody tr th {\n",
       "        vertical-align: top;\n",
       "    }\n",
       "\n",
       "    .dataframe thead th {\n",
       "        text-align: right;\n",
       "    }\n",
       "</style>\n",
       "<table border=\"1\" class=\"dataframe\">\n",
       "  <thead>\n",
       "    <tr style=\"text-align: right;\">\n",
       "      <th></th>\n",
       "      <th>categories</th>\n",
       "      <th>text</th>\n",
       "    </tr>\n",
       "  </thead>\n",
       "  <tbody>\n",
       "    <tr>\n",
       "      <td>0</td>\n",
       "      <td>hep-ph</td>\n",
       "      <td>calculation of prompt diphoton production cros...</td>\n",
       "    </tr>\n",
       "    <tr>\n",
       "      <td>1</td>\n",
       "      <td>math.CO cs.CG</td>\n",
       "      <td>sparsity-certifying graph decompositions  we d...</td>\n",
       "    </tr>\n",
       "    <tr>\n",
       "      <td>2</td>\n",
       "      <td>physics.gen-ph</td>\n",
       "      <td>the evolution of the earth-moon system based o...</td>\n",
       "    </tr>\n",
       "    <tr>\n",
       "      <td>3</td>\n",
       "      <td>math.CO</td>\n",
       "      <td>a determinant of stirling cycle numbers counts...</td>\n",
       "    </tr>\n",
       "    <tr>\n",
       "      <td>4</td>\n",
       "      <td>math.CA math.FA</td>\n",
       "      <td>from dyadic $\\lambda_{\\alpha}$ to $\\lambda_{\\a...</td>\n",
       "    </tr>\n",
       "  </tbody>\n",
       "</table>\n",
       "</div>"
      ],
      "text/plain": [
       "        categories                                               text\n",
       "0           hep-ph  calculation of prompt diphoton production cros...\n",
       "1    math.CO cs.CG  sparsity-certifying graph decompositions  we d...\n",
       "2   physics.gen-ph  the evolution of the earth-moon system based o...\n",
       "3          math.CO  a determinant of stirling cycle numbers counts...\n",
       "4  math.CA math.FA  from dyadic $\\lambda_{\\alpha}$ to $\\lambda_{\\a..."
      ]
     },
     "execution_count": 10,
     "metadata": {},
     "output_type": "execute_result"
    }
   ],
   "source": [
    "data.head()"
   ]
  },
  {
   "cell_type": "markdown",
   "metadata": {},
   "source": [
    "由于原始论⽂文有可能有多个类别，所以也需要处理理："
   ]
  },
  {
   "cell_type": "code",
   "execution_count": 11,
   "metadata": {},
   "outputs": [],
   "source": [
    "# 多个类别，包含⼦子分类\n",
    "data['categories'] = data['categories'].apply(lambda x : x.split(' '))\n",
    "# 单个类别，不不包含⼦子分类\n",
    "data['categories_big'] = data['categories'].apply(lambda x : [xx.split('.')[0] for xx in x])"
   ]
  },
  {
   "cell_type": "code",
   "execution_count": 12,
   "metadata": {},
   "outputs": [
    {
     "data": {
      "text/html": [
       "<div>\n",
       "<style scoped>\n",
       "    .dataframe tbody tr th:only-of-type {\n",
       "        vertical-align: middle;\n",
       "    }\n",
       "\n",
       "    .dataframe tbody tr th {\n",
       "        vertical-align: top;\n",
       "    }\n",
       "\n",
       "    .dataframe thead th {\n",
       "        text-align: right;\n",
       "    }\n",
       "</style>\n",
       "<table border=\"1\" class=\"dataframe\">\n",
       "  <thead>\n",
       "    <tr style=\"text-align: right;\">\n",
       "      <th></th>\n",
       "      <th>categories</th>\n",
       "      <th>text</th>\n",
       "      <th>categories_big</th>\n",
       "    </tr>\n",
       "  </thead>\n",
       "  <tbody>\n",
       "    <tr>\n",
       "      <td>0</td>\n",
       "      <td>[hep-ph]</td>\n",
       "      <td>calculation of prompt diphoton production cros...</td>\n",
       "      <td>[hep-ph]</td>\n",
       "    </tr>\n",
       "    <tr>\n",
       "      <td>1</td>\n",
       "      <td>[math.CO, cs.CG]</td>\n",
       "      <td>sparsity-certifying graph decompositions  we d...</td>\n",
       "      <td>[math, cs]</td>\n",
       "    </tr>\n",
       "    <tr>\n",
       "      <td>2</td>\n",
       "      <td>[physics.gen-ph]</td>\n",
       "      <td>the evolution of the earth-moon system based o...</td>\n",
       "      <td>[physics]</td>\n",
       "    </tr>\n",
       "    <tr>\n",
       "      <td>3</td>\n",
       "      <td>[math.CO]</td>\n",
       "      <td>a determinant of stirling cycle numbers counts...</td>\n",
       "      <td>[math]</td>\n",
       "    </tr>\n",
       "    <tr>\n",
       "      <td>4</td>\n",
       "      <td>[math.CA, math.FA]</td>\n",
       "      <td>from dyadic $\\lambda_{\\alpha}$ to $\\lambda_{\\a...</td>\n",
       "      <td>[math, math]</td>\n",
       "    </tr>\n",
       "  </tbody>\n",
       "</table>\n",
       "</div>"
      ],
      "text/plain": [
       "           categories                                               text  \\\n",
       "0            [hep-ph]  calculation of prompt diphoton production cros...   \n",
       "1    [math.CO, cs.CG]  sparsity-certifying graph decompositions  we d...   \n",
       "2    [physics.gen-ph]  the evolution of the earth-moon system based o...   \n",
       "3           [math.CO]  a determinant of stirling cycle numbers counts...   \n",
       "4  [math.CA, math.FA]  from dyadic $\\lambda_{\\alpha}$ to $\\lambda_{\\a...   \n",
       "\n",
       "  categories_big  \n",
       "0       [hep-ph]  \n",
       "1     [math, cs]  \n",
       "2      [physics]  \n",
       "3         [math]  \n",
       "4   [math, math]  "
      ]
     },
     "execution_count": 12,
     "metadata": {},
     "output_type": "execute_result"
    }
   ],
   "source": [
    "data.head()"
   ]
  },
  {
   "cell_type": "markdown",
   "metadata": {},
   "source": [
    "然后将类别进⾏行行编码，这⾥里里类别是多个，所以需要多编码："
   ]
  },
  {
   "cell_type": "code",
   "execution_count": 13,
   "metadata": {},
   "outputs": [],
   "source": [
    "from sklearn.preprocessing import MultiLabelBinarizer\n",
    "mlb = MultiLabelBinarizer()\n",
    "data_label = mlb.fit_transform(data['categories_big'].iloc[:])"
   ]
  },
  {
   "cell_type": "code",
   "execution_count": 14,
   "metadata": {},
   "outputs": [
    {
     "name": "stdout",
     "output_type": "stream",
     "text": [
      "[[0 0 0 ... 0 0 0]\n",
      " [0 0 1 ... 0 0 0]\n",
      " [0 0 0 ... 0 0 0]\n",
      " ...\n",
      " [0 1 0 ... 0 0 0]\n",
      " [0 1 0 ... 0 0 0]\n",
      " [1 0 0 ... 0 0 0]]\n"
     ]
    }
   ],
   "source": [
    "print(data_label)"
   ]
  },
  {
   "cell_type": "markdown",
   "metadata": {},
   "source": [
    "使⽤用TFIDF提取特征，限制最多4000个单词："
   ]
  },
  {
   "cell_type": "code",
   "execution_count": 17,
   "metadata": {},
   "outputs": [
    {
     "name": "stdout",
     "output_type": "stream",
     "text": [
      "  (0, 1339)\t0.07713966986425407\n",
      "  (0, 3234)\t0.08325700493814182\n",
      "  (0, 2529)\t0.050550785991702214\n",
      "  (0, 412)\t0.02966354825388307\n",
      "  (0, 541)\t0.035583150240498684\n",
      "  (0, 3309)\t0.0717364472740219\n",
      "  (0, 3247)\t0.08000737351942044\n",
      "  (0, 1278)\t0.07936703492862042\n",
      "  (0, 3639)\t0.02245218063552933\n",
      "  (0, 3300)\t0.07940510009735878\n",
      "  (0, 2846)\t0.06520385816094423\n",
      "  (0, 2924)\t0.07382373036178137\n",
      "  (0, 3669)\t0.06075918251245269\n",
      "  (0, 478)\t0.0827760270517401\n",
      "  (0, 1752)\t0.0817066965469597\n",
      "  (0, 978)\t0.0669526895342047\n",
      "  (0, 686)\t0.08582798690462216\n",
      "  (0, 2076)\t0.046788346600009675\n",
      "  (0, 1274)\t0.04492028467968419\n",
      "  (0, 2849)\t0.14685314000178262\n",
      "  (0, 1153)\t0.13723340756219451\n",
      "  (0, 3301)\t0.054627201472470396\n",
      "  (0, 1160)\t0.06716552478756714\n",
      "  (0, 580)\t0.1066405965713316\n",
      "  (0, 3631)\t0.0857274178984978\n",
      "  :\t:\n",
      "  (200001, 2344)\t0.07452962963174609\n",
      "  (200001, 526)\t0.04842670603988993\n",
      "  (200001, 2548)\t0.015567166944746604\n",
      "  (200001, 211)\t0.02388166583327765\n",
      "  (200001, 2607)\t0.025589729270363445\n",
      "  (200001, 2011)\t0.023198329378057304\n",
      "  (200001, 3925)\t0.012371026931988256\n",
      "  (200001, 412)\t0.07546244789366419\n",
      "  (200001, 541)\t0.04526079614505582\n",
      "  (200001, 3639)\t0.07139640278392767\n",
      "  (200001, 1274)\t0.14284344092102558\n",
      "  (200001, 2849)\t0.04669829672161198\n",
      "  (200001, 3964)\t0.042675579416295704\n",
      "  (200001, 3943)\t0.039280706538366156\n",
      "  (200001, 1903)\t0.04211033273781663\n",
      "  (200001, 293)\t0.03214852539906698\n",
      "  (200001, 1569)\t0.05814747175804119\n",
      "  (200001, 3689)\t0.058738018996685105\n",
      "  (200001, 3640)\t0.3702455741716318\n",
      "  (200001, 1528)\t0.039840644633480395\n",
      "  (200001, 1999)\t0.08924714607517079\n",
      "  (200001, 1848)\t0.06601828568949328\n",
      "  (200001, 240)\t0.08626744860837929\n",
      "  (200001, 338)\t0.020646241242220913\n",
      "  (200001, 2538)\t0.1705608628001657\n"
     ]
    }
   ],
   "source": [
    "from sklearn.feature_extraction.text import TfidfVectorizer\n",
    "vectorizer = TfidfVectorizer(max_features=4000)\n",
    "data_tfidf = vectorizer.fit_transform(data['text'].iloc[:])\n",
    "print(data_tfidf)"
   ]
  },
  {
   "cell_type": "markdown",
   "metadata": {},
   "source": [
    "由于这⾥里里是多标签分类，可以使⽤用sklearn的多标签分类进⾏行行封装："
   ]
  },
  {
   "cell_type": "code",
   "execution_count": 18,
   "metadata": {},
   "outputs": [],
   "source": [
    "from sklearn.model_selection import train_test_split\n",
    "x_train, x_test, y_train, y_test = train_test_split(data_tfidf, data_label,test_size = 0.2,random_state = 1)\n",
    "# 构建多标签分类模型\n",
    "from sklearn.multioutput import MultiOutputClassifier\n",
    "from sklearn.naive_bayes import MultinomialNB\n",
    "clf = MultiOutputClassifier(MultinomialNB()).fit(x_train, y_train)"
   ]
  },
  {
   "cell_type": "markdown",
   "metadata": {},
   "source": [
    "验证模型的精度："
   ]
  },
  {
   "cell_type": "code",
   "execution_count": 19,
   "metadata": {},
   "outputs": [
    {
     "name": "stdout",
     "output_type": "stream",
     "text": [
      "              precision    recall  f1-score   support\n",
      "\n",
      "           0       0.95      0.85      0.90      7872\n",
      "           1       0.85      0.78      0.81      7329\n",
      "           2       0.77      0.72      0.74      2970\n",
      "           3       0.00      0.00      0.00         2\n",
      "           4       0.72      0.47      0.57      2149\n",
      "           5       0.51      0.67      0.58       993\n",
      "           6       0.89      0.35      0.50       538\n",
      "           7       0.71      0.68      0.70      3657\n",
      "           8       0.75      0.62      0.68      3382\n",
      "           9       0.85      0.88      0.86     10809\n",
      "          10       0.41      0.11      0.18      1796\n",
      "          11       0.80      0.04      0.07       737\n",
      "          12       0.44      0.33      0.38       540\n",
      "          13       0.52      0.34      0.41      1070\n",
      "          14       0.70      0.15      0.25      3435\n",
      "          15       0.83      0.19      0.31       687\n",
      "          16       0.88      0.18      0.30       249\n",
      "          17       0.89      0.43      0.58      2565\n",
      "          18       0.79      0.36      0.49       689\n",
      "\n",
      "   micro avg       0.81      0.65      0.72     51469\n",
      "   macro avg       0.70      0.43      0.49     51469\n",
      "weighted avg       0.80      0.65      0.69     51469\n",
      " samples avg       0.72      0.72      0.70     51469\n",
      "\n"
     ]
    },
    {
     "name": "stderr",
     "output_type": "stream",
     "text": [
      "D:\\anaconda\\lib\\site-packages\\sklearn\\metrics\\classification.py:1437: UndefinedMetricWarning: Precision and F-score are ill-defined and being set to 0.0 in labels with no predicted samples.\n",
      "  'precision', 'predicted', average, warn_for)\n",
      "D:\\anaconda\\lib\\site-packages\\sklearn\\metrics\\classification.py:1437: UndefinedMetricWarning: Precision and F-score are ill-defined and being set to 0.0 in samples with no predicted labels.\n",
      "  'precision', 'predicted', average, warn_for)\n"
     ]
    }
   ],
   "source": [
    "from sklearn.metrics import classification_report\n",
    "print(classification_report(y_test, clf.predict(x_test)))"
   ]
  },
  {
   "cell_type": "code",
   "execution_count": null,
   "metadata": {},
   "outputs": [],
   "source": []
  }
 ],
 "metadata": {
  "kernelspec": {
   "display_name": "Python 3",
   "language": "python",
   "name": "python3"
  },
  "language_info": {
   "codemirror_mode": {
    "name": "ipython",
    "version": 3
   },
   "file_extension": ".py",
   "mimetype": "text/x-python",
   "name": "python",
   "nbconvert_exporter": "python",
   "pygments_lexer": "ipython3",
   "version": "3.7.4"
  }
 },
 "nbformat": 4,
 "nbformat_minor": 2
}
