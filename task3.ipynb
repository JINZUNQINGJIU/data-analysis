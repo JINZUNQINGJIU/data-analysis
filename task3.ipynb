{
 "cells": [
  {
   "cell_type": "markdown",
   "metadata": {},
   "source": [
    "导入需要的库"
   ]
  },
  {
   "cell_type": "code",
   "execution_count": 1,
   "metadata": {},
   "outputs": [],
   "source": [
    "import seaborn as sns  # 用于画图\n",
    "from bs4 import BeautifulSoup  # 用于爬取arxiv的数据\n",
    "import re  # 用于正则表达式，匹配字符串的模式\n",
    "import requests  # 用于网络连接，发送网络请求，使用域名获取对应信息\n",
    "import json  # 读取数据，我们的数据为json格式的\n",
    "import pandas as pd  # 数据处理，数据分析\n",
    "import matplotlib.pyplot as plt  # 画图工具"
   ]
  },
  {
   "cell_type": "markdown",
   "metadata": {},
   "source": [
    "⾸首先我们来统计论⽂文⻚页数，也就是在 comments 字段中抽取pages和figures和个数，⾸首先完成字段读\n",
    "取。"
   ]
  },
  {
   "cell_type": "code",
   "execution_count": 2,
   "metadata": {},
   "outputs": [],
   "source": [
    "data = [] #初始化\n",
    "#使⽤用with语句句优势： 1.⾃自动关闭⽂文件句句柄； 2.⾃自动显示（处理理）⽂文件读取数据异常\n",
    "with open(\"H:\\\\arxiv-metadata-oai-snapshot.json\", 'r') as f:\n",
    "    for idx, line in enumerate(f):\n",
    "        d = json.loads(line)\n",
    "        d = {'abstract': d['abstract'], 'categories': d['categories'],'comments': d['comments']}\n",
    "        data.append(d)\n",
    "data = pd.DataFrame(data) #将list变为dataframe格式，⽅方便便使⽤用pandas进⾏行行分析"
   ]
  },
  {
   "cell_type": "code",
   "execution_count": 4,
   "metadata": {},
   "outputs": [
    {
     "data": {
      "text/html": [
       "<div>\n",
       "<style scoped>\n",
       "    .dataframe tbody tr th:only-of-type {\n",
       "        vertical-align: middle;\n",
       "    }\n",
       "\n",
       "    .dataframe tbody tr th {\n",
       "        vertical-align: top;\n",
       "    }\n",
       "\n",
       "    .dataframe thead th {\n",
       "        text-align: right;\n",
       "    }\n",
       "</style>\n",
       "<table border=\"1\" class=\"dataframe\">\n",
       "  <thead>\n",
       "    <tr style=\"text-align: right;\">\n",
       "      <th></th>\n",
       "      <th>abstract</th>\n",
       "      <th>categories</th>\n",
       "      <th>comments</th>\n",
       "      <th>pages</th>\n",
       "    </tr>\n",
       "  </thead>\n",
       "  <tbody>\n",
       "    <tr>\n",
       "      <td>412</td>\n",
       "      <td>We study pentaquark $\\Theta^{+} (I=0,J=1/2)$...</td>\n",
       "      <td>hep-ph</td>\n",
       "      <td>4pages, 2figures, Talk at the Yukawa Internati...</td>\n",
       "      <td>[4pages]</td>\n",
       "    </tr>\n",
       "    <tr>\n",
       "      <td>607</td>\n",
       "      <td>We study birational maps with empty base loc...</td>\n",
       "      <td>math.AC math.AG</td>\n",
       "      <td>22pages</td>\n",
       "      <td>[22pages]</td>\n",
       "    </tr>\n",
       "    <tr>\n",
       "      <td>684</td>\n",
       "      <td>In this paper we give a generalization of Ch...</td>\n",
       "      <td>math.CO</td>\n",
       "      <td>11pages</td>\n",
       "      <td>[11pages]</td>\n",
       "    </tr>\n",
       "    <tr>\n",
       "      <td>847</td>\n",
       "      <td>A local growth algorithm for a decagonal qua...</td>\n",
       "      <td>cond-mat.dis-nn cond-mat.stat-mech math-ph mat...</td>\n",
       "      <td>4pages, 2figures</td>\n",
       "      <td>[4pages]</td>\n",
       "    </tr>\n",
       "    <tr>\n",
       "      <td>982</td>\n",
       "      <td>The electromagnetic form factors of the exot...</td>\n",
       "      <td>hep-ph</td>\n",
       "      <td>12pages, 2 figures</td>\n",
       "      <td>[12pages]</td>\n",
       "    </tr>\n",
       "  </tbody>\n",
       "</table>\n",
       "</div>"
      ],
      "text/plain": [
       "                                              abstract  \\\n",
       "412    We study pentaquark $\\Theta^{+} (I=0,J=1/2)$...   \n",
       "607    We study birational maps with empty base loc...   \n",
       "684    In this paper we give a generalization of Ch...   \n",
       "847    A local growth algorithm for a decagonal qua...   \n",
       "982    The electromagnetic form factors of the exot...   \n",
       "\n",
       "                                            categories  \\\n",
       "412                                             hep-ph   \n",
       "607                                    math.AC math.AG   \n",
       "684                                            math.CO   \n",
       "847  cond-mat.dis-nn cond-mat.stat-mech math-ph mat...   \n",
       "982                                             hep-ph   \n",
       "\n",
       "                                              comments      pages  \n",
       "412  4pages, 2figures, Talk at the Yukawa Internati...   [4pages]  \n",
       "607                                            22pages  [22pages]  \n",
       "684                                            11pages  [11pages]  \n",
       "847                                   4pages, 2figures   [4pages]  \n",
       "982                                 12pages, 2 figures  [12pages]  "
      ]
     },
     "execution_count": 4,
     "metadata": {},
     "output_type": "execute_result"
    }
   ],
   "source": [
    "data.head()"
   ]
  },
  {
   "cell_type": "code",
   "execution_count": 5,
   "metadata": {},
   "outputs": [
    {
     "data": {
      "text/plain": [
       "(7736, 4)"
      ]
     },
     "execution_count": 5,
     "metadata": {},
     "output_type": "execute_result"
    }
   ],
   "source": [
    "data.shape"
   ]
  },
  {
   "cell_type": "markdown",
   "metadata": {},
   "source": [
    "对pages进⾏行行抽取："
   ]
  },
  {
   "cell_type": "code",
   "execution_count": 6,
   "metadata": {},
   "outputs": [
    {
     "data": {
      "text/plain": [
       "(7736, 4)"
      ]
     },
     "execution_count": 6,
     "metadata": {},
     "output_type": "execute_result"
    }
   ],
   "source": [
    "# 使⽤用正则表达式匹配， XX pages\n",
    "data['pages'] = data['comments'].apply(lambda x: re.findall('[1-9][0-9]*pages', str(x)))\n",
    "# 筛选出有pages的论⽂\n",
    "data = data[data['pages'].apply(len) > 0]\n",
    "# 由于匹配得到的是⼀一个list，如['19 pages']，需要进⾏转换\n",
    "#data['pages'] = data['pages'].apply(lambda x: float(x[0].replace(' pages','')))\n",
    "data.shape"
   ]
  },
  {
   "cell_type": "code",
   "execution_count": 7,
   "metadata": {},
   "outputs": [
    {
     "data": {
      "text/html": [
       "<div>\n",
       "<style scoped>\n",
       "    .dataframe tbody tr th:only-of-type {\n",
       "        vertical-align: middle;\n",
       "    }\n",
       "\n",
       "    .dataframe tbody tr th {\n",
       "        vertical-align: top;\n",
       "    }\n",
       "\n",
       "    .dataframe thead th {\n",
       "        text-align: right;\n",
       "    }\n",
       "</style>\n",
       "<table border=\"1\" class=\"dataframe\">\n",
       "  <thead>\n",
       "    <tr style=\"text-align: right;\">\n",
       "      <th></th>\n",
       "      <th>abstract</th>\n",
       "      <th>categories</th>\n",
       "      <th>comments</th>\n",
       "      <th>pages</th>\n",
       "    </tr>\n",
       "  </thead>\n",
       "  <tbody>\n",
       "    <tr>\n",
       "      <td>412</td>\n",
       "      <td>We study pentaquark $\\Theta^{+} (I=0,J=1/2)$...</td>\n",
       "      <td>hep-ph</td>\n",
       "      <td>4pages, 2figures, Talk at the Yukawa Internati...</td>\n",
       "      <td>[4pages]</td>\n",
       "    </tr>\n",
       "    <tr>\n",
       "      <td>607</td>\n",
       "      <td>We study birational maps with empty base loc...</td>\n",
       "      <td>math.AC math.AG</td>\n",
       "      <td>22pages</td>\n",
       "      <td>[22pages]</td>\n",
       "    </tr>\n",
       "    <tr>\n",
       "      <td>684</td>\n",
       "      <td>In this paper we give a generalization of Ch...</td>\n",
       "      <td>math.CO</td>\n",
       "      <td>11pages</td>\n",
       "      <td>[11pages]</td>\n",
       "    </tr>\n",
       "    <tr>\n",
       "      <td>847</td>\n",
       "      <td>A local growth algorithm for a decagonal qua...</td>\n",
       "      <td>cond-mat.dis-nn cond-mat.stat-mech math-ph mat...</td>\n",
       "      <td>4pages, 2figures</td>\n",
       "      <td>[4pages]</td>\n",
       "    </tr>\n",
       "    <tr>\n",
       "      <td>982</td>\n",
       "      <td>The electromagnetic form factors of the exot...</td>\n",
       "      <td>hep-ph</td>\n",
       "      <td>12pages, 2 figures</td>\n",
       "      <td>[12pages]</td>\n",
       "    </tr>\n",
       "  </tbody>\n",
       "</table>\n",
       "</div>"
      ],
      "text/plain": [
       "                                              abstract  \\\n",
       "412    We study pentaquark $\\Theta^{+} (I=0,J=1/2)$...   \n",
       "607    We study birational maps with empty base loc...   \n",
       "684    In this paper we give a generalization of Ch...   \n",
       "847    A local growth algorithm for a decagonal qua...   \n",
       "982    The electromagnetic form factors of the exot...   \n",
       "\n",
       "                                            categories  \\\n",
       "412                                             hep-ph   \n",
       "607                                    math.AC math.AG   \n",
       "684                                            math.CO   \n",
       "847  cond-mat.dis-nn cond-mat.stat-mech math-ph mat...   \n",
       "982                                             hep-ph   \n",
       "\n",
       "                                              comments      pages  \n",
       "412  4pages, 2figures, Talk at the Yukawa Internati...   [4pages]  \n",
       "607                                            22pages  [22pages]  \n",
       "684                                            11pages  [11pages]  \n",
       "847                                   4pages, 2figures   [4pages]  \n",
       "982                                 12pages, 2 figures  [12pages]  "
      ]
     },
     "execution_count": 7,
     "metadata": {},
     "output_type": "execute_result"
    }
   ],
   "source": [
    "data.head()"
   ]
  },
  {
   "cell_type": "markdown",
   "metadata": {},
   "source": [
    "由于匹配得到的是⼀一个list，如['19 pages']，需要进⾏行行转换"
   ]
  },
  {
   "cell_type": "code",
   "execution_count": 12,
   "metadata": {},
   "outputs": [],
   "source": [
    "data['pages'] = data.loc[:,'pages'].apply(lambda x:float(str(x[0]).replace('pages','')))"
   ]
  },
  {
   "cell_type": "code",
   "execution_count": 13,
   "metadata": {},
   "outputs": [
    {
     "data": {
      "text/html": [
       "<div>\n",
       "<style scoped>\n",
       "    .dataframe tbody tr th:only-of-type {\n",
       "        vertical-align: middle;\n",
       "    }\n",
       "\n",
       "    .dataframe tbody tr th {\n",
       "        vertical-align: top;\n",
       "    }\n",
       "\n",
       "    .dataframe thead th {\n",
       "        text-align: right;\n",
       "    }\n",
       "</style>\n",
       "<table border=\"1\" class=\"dataframe\">\n",
       "  <thead>\n",
       "    <tr style=\"text-align: right;\">\n",
       "      <th></th>\n",
       "      <th>abstract</th>\n",
       "      <th>categories</th>\n",
       "      <th>comments</th>\n",
       "      <th>pages</th>\n",
       "    </tr>\n",
       "  </thead>\n",
       "  <tbody>\n",
       "    <tr>\n",
       "      <td>412</td>\n",
       "      <td>We study pentaquark $\\Theta^{+} (I=0,J=1/2)$...</td>\n",
       "      <td>hep-ph</td>\n",
       "      <td>4pages, 2figures, Talk at the Yukawa Internati...</td>\n",
       "      <td>4.0</td>\n",
       "    </tr>\n",
       "    <tr>\n",
       "      <td>607</td>\n",
       "      <td>We study birational maps with empty base loc...</td>\n",
       "      <td>math.AC math.AG</td>\n",
       "      <td>22pages</td>\n",
       "      <td>22.0</td>\n",
       "    </tr>\n",
       "    <tr>\n",
       "      <td>684</td>\n",
       "      <td>In this paper we give a generalization of Ch...</td>\n",
       "      <td>math.CO</td>\n",
       "      <td>11pages</td>\n",
       "      <td>11.0</td>\n",
       "    </tr>\n",
       "    <tr>\n",
       "      <td>847</td>\n",
       "      <td>A local growth algorithm for a decagonal qua...</td>\n",
       "      <td>cond-mat.dis-nn cond-mat.stat-mech math-ph mat...</td>\n",
       "      <td>4pages, 2figures</td>\n",
       "      <td>4.0</td>\n",
       "    </tr>\n",
       "    <tr>\n",
       "      <td>982</td>\n",
       "      <td>The electromagnetic form factors of the exot...</td>\n",
       "      <td>hep-ph</td>\n",
       "      <td>12pages, 2 figures</td>\n",
       "      <td>12.0</td>\n",
       "    </tr>\n",
       "  </tbody>\n",
       "</table>\n",
       "</div>"
      ],
      "text/plain": [
       "                                              abstract  \\\n",
       "412    We study pentaquark $\\Theta^{+} (I=0,J=1/2)$...   \n",
       "607    We study birational maps with empty base loc...   \n",
       "684    In this paper we give a generalization of Ch...   \n",
       "847    A local growth algorithm for a decagonal qua...   \n",
       "982    The electromagnetic form factors of the exot...   \n",
       "\n",
       "                                            categories  \\\n",
       "412                                             hep-ph   \n",
       "607                                    math.AC math.AG   \n",
       "684                                            math.CO   \n",
       "847  cond-mat.dis-nn cond-mat.stat-mech math-ph mat...   \n",
       "982                                             hep-ph   \n",
       "\n",
       "                                              comments  pages  \n",
       "412  4pages, 2figures, Talk at the Yukawa Internati...    4.0  \n",
       "607                                            22pages   22.0  \n",
       "684                                            11pages   11.0  \n",
       "847                                   4pages, 2figures    4.0  \n",
       "982                                 12pages, 2 figures   12.0  "
      ]
     },
     "execution_count": 13,
     "metadata": {},
     "output_type": "execute_result"
    }
   ],
   "source": [
    "data.head()"
   ]
  },
  {
   "cell_type": "markdown",
   "metadata": {},
   "source": [
    "对pages进⾏行行统计："
   ]
  },
  {
   "cell_type": "code",
   "execution_count": 14,
   "metadata": {},
   "outputs": [
    {
     "data": {
      "text/plain": [
       "count    7736\n",
       "mean       16\n",
       "std        18\n",
       "min         1\n",
       "25%         8\n",
       "50%        13\n",
       "75%        21\n",
       "max       505\n",
       "Name: pages, dtype: int32"
      ]
     },
     "execution_count": 14,
     "metadata": {},
     "output_type": "execute_result"
    }
   ],
   "source": [
    "data['pages'].describe().astype(int)"
   ]
  },
  {
   "cell_type": "markdown",
   "metadata": {},
   "source": [
    "统计结果如上：论⽂平均的页数为16页， 75%的论文在18页以内，最⻓的论文有505页。\n",
    "接下来按照分类统计论⽂文⻚页数，选取了了论⽂文的第⼀一个类别的主要类别："
   ]
  },
  {
   "cell_type": "code",
   "execution_count": 15,
   "metadata": {},
   "outputs": [
    {
     "data": {
      "text/plain": [
       "<matplotlib.axes._subplots.AxesSubplot at 0x253158a7908>"
      ]
     },
     "execution_count": 15,
     "metadata": {},
     "output_type": "execute_result"
    },
    {
     "data": {
      "image/png": "[encoded data removed]",
      "text/plain": [
       "<Figure size 864x432 with 1 Axes>"
      ]
     },
     "metadata": {
      "needs_background": "light"
     },
     "output_type": "display_data"
    }
   ],
   "source": [
    "# 选择主要类别\n",
    "data['categories'] = data['categories'].apply(lambda x: x.split(' ')[0])\n",
    "data['categories'] = data['categories'].apply(lambda x: x.split('.')[0])\n",
    "# 每类论⽂文的平均⻚页数\n",
    "plt.figure(figsize=(12, 6))\n",
    "data.groupby(['categories'])['pages'].mean().plot(kind='bar')"
   ]
  },
  {
   "cell_type": "markdown",
   "metadata": {},
   "source": [
    "接下来对论⽂文图表个数进⾏行行抽取："
   ]
  },
  {
   "cell_type": "code",
   "execution_count": 23,
   "metadata": {},
   "outputs": [
    {
     "data": {
      "text/html": [
       "<div>\n",
       "<style scoped>\n",
       "    .dataframe tbody tr th:only-of-type {\n",
       "        vertical-align: middle;\n",
       "    }\n",
       "\n",
       "    .dataframe tbody tr th {\n",
       "        vertical-align: top;\n",
       "    }\n",
       "\n",
       "    .dataframe thead th {\n",
       "        text-align: right;\n",
       "    }\n",
       "</style>\n",
       "<table border=\"1\" class=\"dataframe\">\n",
       "  <thead>\n",
       "    <tr style=\"text-align: right;\">\n",
       "      <th></th>\n",
       "      <th>abstract</th>\n",
       "      <th>categories</th>\n",
       "      <th>comments</th>\n",
       "      <th>pages</th>\n",
       "      <th>figures</th>\n",
       "    </tr>\n",
       "  </thead>\n",
       "  <tbody>\n",
       "    <tr>\n",
       "      <td>412</td>\n",
       "      <td>We study pentaquark $\\Theta^{+} (I=0,J=1/2)$...</td>\n",
       "      <td>hep-ph</td>\n",
       "      <td>4pages, 2figures, Talk at the Yukawa Internati...</td>\n",
       "      <td>4.0</td>\n",
       "      <td>2.0</td>\n",
       "    </tr>\n",
       "    <tr>\n",
       "      <td>847</td>\n",
       "      <td>A local growth algorithm for a decagonal qua...</td>\n",
       "      <td>cond-mat</td>\n",
       "      <td>4pages, 2figures</td>\n",
       "      <td>4.0</td>\n",
       "      <td>2.0</td>\n",
       "    </tr>\n",
       "    <tr>\n",
       "      <td>3504</td>\n",
       "      <td>We investigate the total spin in an individu...</td>\n",
       "      <td>cond-mat</td>\n",
       "      <td>5pages, 5figures, accepted for publication in ...</td>\n",
       "      <td>5.0</td>\n",
       "      <td>5.0</td>\n",
       "    </tr>\n",
       "    <tr>\n",
       "      <td>3862</td>\n",
       "      <td>We theoretically study the Fano-Kondo effect...</td>\n",
       "      <td>cond-mat</td>\n",
       "      <td>5pages,6figures</td>\n",
       "      <td>5.0</td>\n",
       "      <td>6.0</td>\n",
       "    </tr>\n",
       "    <tr>\n",
       "      <td>5880</td>\n",
       "      <td>We study the isospin asymmetry in the isosca...</td>\n",
       "      <td>nucl-th</td>\n",
       "      <td>16pages,6figures</td>\n",
       "      <td>16.0</td>\n",
       "      <td>6.0</td>\n",
       "    </tr>\n",
       "  </tbody>\n",
       "</table>\n",
       "</div>"
      ],
      "text/plain": [
       "                                               abstract categories  \\\n",
       "412     We study pentaquark $\\Theta^{+} (I=0,J=1/2)$...     hep-ph   \n",
       "847     A local growth algorithm for a decagonal qua...   cond-mat   \n",
       "3504    We investigate the total spin in an individu...   cond-mat   \n",
       "3862    We theoretically study the Fano-Kondo effect...   cond-mat   \n",
       "5880    We study the isospin asymmetry in the isosca...    nucl-th   \n",
       "\n",
       "                                               comments  pages  figures  \n",
       "412   4pages, 2figures, Talk at the Yukawa Internati...    4.0      2.0  \n",
       "847                                    4pages, 2figures    4.0      2.0  \n",
       "3504  5pages, 5figures, accepted for publication in ...    5.0      5.0  \n",
       "3862                                    5pages,6figures    5.0      6.0  \n",
       "5880                                   16pages,6figures   16.0      6.0  "
      ]
     },
     "execution_count": 23,
     "metadata": {},
     "output_type": "execute_result"
    }
   ],
   "source": [
    "data['figures'] = data['comments'].apply(lambda x: re.findall('[1-9][0-9]*figures', str(x)))\n",
    "data = data[data['figures'].apply(len) > 0]\n",
    "data['figures'] = data['figures'].apply(lambda x: float(x[0].replace('figures', '')))\n",
    "data.head()"
   ]
  },
  {
   "cell_type": "markdown",
   "metadata": {},
   "source": [
    "最后我们对论⽂文的代码链接进⾏行行提取，为了了简化任务我们只抽取github链接："
   ]
  },
  {
   "cell_type": "code",
   "execution_count": 29,
   "metadata": {},
   "outputs": [
    {
     "name": "stderr",
     "output_type": "stream",
     "text": [
      "D:\\anaconda\\lib\\site-packages\\ipykernel_launcher.py:4: SettingWithCopyWarning: \n",
      "A value is trying to be set on a copy of a slice from a DataFrame.\n",
      "Try using .loc[row_indexer,col_indexer] = value instead\n",
      "\n",
      "See the caveats in the documentation: http://pandas.pydata.org/pandas-docs/stable/user_guide/indexing.html#returning-a-view-versus-a-copy\n",
      "  after removing the cwd from sys.path.\n",
      "D:\\anaconda\\lib\\site-packages\\ipykernel_launcher.py:8: SettingWithCopyWarning: \n",
      "A value is trying to be set on a copy of a slice from a DataFrame.\n",
      "Try using .loc[row_indexer,col_indexer] = value instead\n",
      "\n",
      "See the caveats in the documentation: http://pandas.pydata.org/pandas-docs/stable/user_guide/indexing.html#returning-a-view-versus-a-copy\n",
      "  \n"
     ]
    }
   ],
   "source": [
    "# 筛选包含github的论⽂文\n",
    "data_with_code = data[(data.comments.str.contains('github')==True)|\n",
    "                      (data.abstract.str.contains('github')==True)]\n",
    "data_with_code['text'] = data_with_code['abstract'].fillna('') +data_with_code['comments'].fillna('')\n",
    "# 使⽤用正则表达式匹配论⽂文\n",
    "data_with_code.head()\n",
    "pattern = '[a-zA-z]+://github[^\\s]*'\n",
    "data_with_code['code_flag'] =data_with_code['text'].str.findall(pattern).apply(len)"
   ]
  },
  {
   "cell_type": "code",
   "execution_count": 31,
   "metadata": {},
   "outputs": [
    {
     "data": {
      "text/plain": [
       "<matplotlib.axes._subplots.AxesSubplot at 0x253126c3148>"
      ]
     },
     "execution_count": 31,
     "metadata": {},
     "output_type": "execute_result"
    },
    {
     "data": {
      "image/png": "[encoded data removed]",
      "text/plain": [
       "<Figure size 432x432 with 1 Axes>"
      ]
     },
     "metadata": {
      "needs_background": "light"
     },
     "output_type": "display_data"
    }
   ],
   "source": [
    "data_with_code = data_with_code[data_with_code['code_flag'] == 1]\n",
    "plt.figure(figsize=(6, 6))\n",
    "data_with_code.groupby(['categories'])['code_flag'].count().plot(kind='bar')"
   ]
  },
  {
   "cell_type": "markdown",
   "metadata": {},
   "source": [
    "只有一种，原因未知。。"
   ]
  }
 ],
 "metadata": {
  "kernelspec": {
   "display_name": "Python 3",
   "language": "python",
   "name": "python3"
  },
  "language_info": {
   "codemirror_mode": {
    "name": "ipython",
    "version": 3
   },
   "file_extension": ".py",
   "mimetype": "text/x-python",
   "name": "python",
   "nbconvert_exporter": "python",
   "pygments_lexer": "ipython3",
   "version": "3.7.4"
  }
 },
 "nbformat": 4,
 "nbformat_minor": 2
}
