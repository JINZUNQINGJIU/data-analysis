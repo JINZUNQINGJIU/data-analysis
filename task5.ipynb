{
 "cells": [
  {
   "cell_type": "markdown",
   "metadata": {},
   "source": [
    "导入数据包"
   ]
  },
  {
   "cell_type": "code",
   "execution_count": 1,
   "metadata": {},
   "outputs": [],
   "source": [
    "import seaborn as sns  # 用于画图\n",
    "from bs4 import BeautifulSoup  # 用于爬取arxiv的数据\n",
    "import re  # 用于正则表达式，匹配字符串的模式\n",
    "import requests  # 用于网络连接，发送网络请求，使用域名获取对应信息\n",
    "import json  # 读取数据，我们的数据为json格式的\n",
    "import pandas as pd  # 数据处理，数据分析\n",
    "import matplotlib.pyplot as plt  # 画图工具"
   ]
  },
  {
   "cell_type": "markdown",
   "metadata": {},
   "source": [
    "文件读取"
   ]
  },
  {
   "cell_type": "code",
   "execution_count": 3,
   "metadata": {},
   "outputs": [],
   "source": [
    "data = [] #初始化\n",
    "#使⽤用with语句句优势： 1.⾃自动关闭⽂文件句句柄； 2.⾃自动显示（处理理）⽂文件读取数据异常\n",
    "with open(\"H:\\\\arxiv-metadata-oai-snapshot.json\", 'r') as f:\n",
    "    for idx, line in enumerate(f):\n",
    "        d = json.loads(line)\n",
    "        d = {'authors_parsed': d['authors_parsed']}\n",
    "        data.append(d)\n",
    "data = pd.DataFrame(data) #将list变为dataframe格式，⽅方便便使⽤用pandas进⾏行行分析"
   ]
  },
  {
   "cell_type": "code",
   "execution_count": 4,
   "metadata": {},
   "outputs": [
    {
     "data": {
      "text/html": [
       "<div>\n",
       "<style scoped>\n",
       "    .dataframe tbody tr th:only-of-type {\n",
       "        vertical-align: middle;\n",
       "    }\n",
       "\n",
       "    .dataframe tbody tr th {\n",
       "        vertical-align: top;\n",
       "    }\n",
       "\n",
       "    .dataframe thead th {\n",
       "        text-align: right;\n",
       "    }\n",
       "</style>\n",
       "<table border=\"1\" class=\"dataframe\">\n",
       "  <thead>\n",
       "    <tr style=\"text-align: right;\">\n",
       "      <th></th>\n",
       "      <th>authors_parsed</th>\n",
       "    </tr>\n",
       "  </thead>\n",
       "  <tbody>\n",
       "    <tr>\n",
       "      <td>0</td>\n",
       "      <td>[[Balázs, C., ], [Berger, E. L., ], [Nadolsky,...</td>\n",
       "    </tr>\n",
       "    <tr>\n",
       "      <td>1</td>\n",
       "      <td>[[Streinu, Ileana, ], [Theran, Louis, ]]</td>\n",
       "    </tr>\n",
       "    <tr>\n",
       "      <td>2</td>\n",
       "      <td>[[Pan, Hongjun, ]]</td>\n",
       "    </tr>\n",
       "    <tr>\n",
       "      <td>3</td>\n",
       "      <td>[[Callan, David, ]]</td>\n",
       "    </tr>\n",
       "    <tr>\n",
       "      <td>4</td>\n",
       "      <td>[[Abu-Shammala, Wael, ], [Torchinsky, Alberto, ]]</td>\n",
       "    </tr>\n",
       "  </tbody>\n",
       "</table>\n",
       "</div>"
      ],
      "text/plain": [
       "                                      authors_parsed\n",
       "0  [[Balázs, C., ], [Berger, E. L., ], [Nadolsky,...\n",
       "1           [[Streinu, Ileana, ], [Theran, Louis, ]]\n",
       "2                                 [[Pan, Hongjun, ]]\n",
       "3                                [[Callan, David, ]]\n",
       "4  [[Abu-Shammala, Wael, ], [Torchinsky, Alberto, ]]"
      ]
     },
     "execution_count": 4,
     "metadata": {},
     "output_type": "execute_result"
    }
   ],
   "source": [
    "data.head()"
   ]
  },
  {
   "cell_type": "markdown",
   "metadata": {},
   "source": [
    "创建作者链接的⽆无向图："
   ]
  },
  {
   "cell_type": "code",
   "execution_count": 5,
   "metadata": {},
   "outputs": [],
   "source": [
    "import networkx as nx\n",
    "# 创建⽆无向图\n",
    "G = nx.Graph()\n",
    "# 只⽤用五篇论⽂文进⾏行行构建\n",
    "for row in data.iloc[:5].itertuples():\n",
    "    authors = row[1]\n",
    "    authors = [' '.join(x[:-1]) for x in authors]\n",
    "# 第⼀一个作者 与 其他作者链接\n",
    "    for author in authors[1:]:\n",
    "        G.add_edge(authors[0],author) #　添加节点２，３并链接２３节点"
   ]
  },
  {
   "cell_type": "markdown",
   "metadata": {},
   "source": [
    "将作者关系图进⾏行行绘制："
   ]
  },
  {
   "cell_type": "code",
   "execution_count": 6,
   "metadata": {},
   "outputs": [
    {
     "name": "stderr",
     "output_type": "stream",
     "text": [
      "D:\\anaconda\\lib\\site-packages\\networkx\\drawing\\nx_pylab.py:579: MatplotlibDeprecationWarning: \n",
      "The iterable function was deprecated in Matplotlib 3.1 and will be removed in 3.3. Use np.iterable instead.\n",
      "  if not cb.iterable(width):\n"
     ]
    },
    {
     "data": {
      "image/png": "[encoded data removed]",
      "text/plain": [
       "<Figure size 432x288 with 1 Axes>"
      ]
     },
     "metadata": {},
     "output_type": "display_data"
    }
   ],
   "source": [
    "nx.draw(G, with_labels=True)"
   ]
  },
  {
   "cell_type": "markdown",
   "metadata": {},
   "source": [
    "得到作者之间的距离："
   ]
  },
  {
   "cell_type": "code",
   "execution_count": 7,
   "metadata": {},
   "outputs": [
    {
     "name": "stdout",
     "output_type": "stream",
     "text": [
      "No path\n"
     ]
    }
   ],
   "source": [
    "try:\n",
    "    print(nx.dijkstra_path(G, 'Balázs C.', 'Ziambaras Eleni'))\n",
    "except:\n",
    "    print('No path')"
   ]
  },
  {
   "cell_type": "markdown",
   "metadata": {},
   "source": [
    "如果我们500⽚论⽂构建图，则可以得到更加完整作者关系，并选择最⼤联通⼦图进⾏绘制，折线图为\n",
    "⼦图节点度值。"
   ]
  },
  {
   "cell_type": "code",
   "execution_count": 9,
   "metadata": {},
   "outputs": [
    {
     "name": "stdout",
     "output_type": "stream",
     "text": [
      "8\n"
     ]
    },
    {
     "data": {
      "image/png": "[encoded data removed]",
      "text/plain": [
       "<Figure size 432x288 with 2 Axes>"
      ]
     },
     "metadata": {
      "needs_background": "light"
     },
     "output_type": "display_data"
    }
   ],
   "source": [
    "degree_sequence=sorted([d for n,d in G.degree()],reverse=True)\n",
    "dmax=max(degree_sequence)\n",
    "print(len(nx.communicability(G)))\n",
    "#plt.loglog(degree_sequence, \"b-\", marker=\"o\")\n",
    "plt.title(\"Degree rank plot\")\n",
    "plt.ylabel(\"degree\")\n",
    "plt.xlabel(\"rank\")\n",
    "# draw graph in inset\n",
    "plt.axes([0.45, 0.45, 0.45, 0.45])\n",
    "Gcc = G.subgraph(sorted(nx.connected_components(G), key=len, reverse=True)[0])\n",
    "pos = nx.spring_layout(Gcc)\n",
    "plt.axis(\"off\")\n",
    "nx.draw_networkx_nodes(Gcc, pos, node_size=20)\n",
    "nx.draw_networkx_edges(Gcc, pos, alpha=0.4)\n",
    "plt.show()"
   ]
  },
  {
   "cell_type": "code",
   "execution_count": null,
   "metadata": {},
   "outputs": [],
   "source": []
  }
 ],
 "metadata": {
  "kernelspec": {
   "display_name": "Python 3",
   "language": "python",
   "name": "python3"
  },
  "language_info": {
   "codemirror_mode": {
    "name": "ipython",
    "version": 3
   },
   "file_extension": ".py",
   "mimetype": "text/x-python",
   "name": "python",
   "nbconvert_exporter": "python",
   "pygments_lexer": "ipython3",
   "version": "3.7.4"
  }
 },
 "nbformat": 4,
 "nbformat_minor": 2
}
